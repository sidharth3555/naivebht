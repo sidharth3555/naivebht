{
 "cells": [
  {
   "cell_type": "code",
   "execution_count": 2,
   "id": "2c12906a",
   "metadata": {},
   "outputs": [],
   "source": [
    "# ----------------------------------------------------------\n",
    "# Kidney Disease Prediction: Multi-Model Evaluation Pipeline\n",
    "# ----------------------------------------------------------\n",
    "# This notebook performs complete data preprocessing, trains\n",
    "# multiple machine learning models, evaluates their performance,\n",
    "# and exports the most accurate model.\n",
    "# ----------------------------------------------------------\n",
    "\n",
    "import pandas as pd\n",
    "import numpy as np\n",
    "import seaborn as sns\n",
    "import matplotlib.pyplot as plt\n",
    "import pickle\n",
    "\n",
    "from sklearn.model_selection import train_test_split\n",
    "from sklearn.preprocessing import LabelEncoder, StandardScaler\n",
    "from sklearn.impute import SimpleImputer\n",
    "\n",
    "from sklearn.linear_model import LogisticRegression\n",
    "from sklearn.tree import DecisionTreeClassifier\n",
    "from sklearn.ensemble import RandomForestClassifier\n",
    "from sklearn.svm import SVC\n",
    "from sklearn.naive_bayes import GaussianNB\n",
    "\n",
    "from sklearn.metrics import accuracy_score, classification_report, confusion_matrix\n",
    "\n",
    "sns.set(style='whitegrid')\n"
   ]
  },
  {
   "cell_type": "code",
   "execution_count": 3,
   "id": "e4ec0fce",
   "metadata": {},
   "outputs": [
    {
     "name": "stdout",
     "output_type": "stream",
     "text": [
      "Initial dataset shape: (400, 26)\n",
      "Column names: ['id', 'age', 'bp', 'sg', 'al', 'su', 'rbc', 'pc', 'pcc', 'ba', 'bgr', 'bu', 'sc', 'sod', 'pot', 'hemo', 'pcv', 'wc', 'rc', 'htn', 'dm', 'cad', 'appet', 'pe', 'ane', 'classification']\n"
     ]
    }
   ],
   "source": [
    "# Load and inspect the dataset\n",
    "df = pd.read_csv(\"kidney_disease.csv\")\n",
    "df.columns = df.columns.str.lower().str.strip()\n",
    "print(\"Initial dataset shape:\", df.shape)\n",
    "print(\"Column names:\", df.columns.tolist())\n",
    "\n",
    "# Replace '?' placeholders with NaN for uniform handling of missing values\n",
    "df.replace('?', np.nan, inplace=True)\n"
   ]
  },
  {
   "cell_type": "code",
   "execution_count": 4,
   "id": "068d8358",
   "metadata": {},
   "outputs": [],
   "source": [
    "# Convert numerical columns from object to float\n",
    "num_cols = ['age', 'bp', 'sg', 'al', 'su', 'bgr', 'bu', 'sc', 'sod',\n",
    "            'pot', 'hemo', 'pcv', 'wc', 'rc']\n",
    "for col in num_cols:\n",
    "    df[col] = pd.to_numeric(df[col], errors='coerce')\n",
    "\n",
    "# Impute missing numeric values with median strategy\n",
    "num_imputer = SimpleImputer(strategy='median')\n",
    "df[num_cols] = num_imputer.fit_transform(df[num_cols])\n",
    "\n",
    "# Handle categorical data\n",
    "cat_cols = df.select_dtypes(include='object').columns.tolist()\n",
    "cat_cols.remove('classification')  # Exclude target\n",
    "for col in cat_cols:\n",
    "    df[col] = df[col].fillna(df[col].mode()[0])  # Replace missing with mode\n",
    "    df[col] = LabelEncoder().fit_transform(df[col])  # Encode categories\n"
   ]
  },
  {
   "cell_type": "code",
   "execution_count": 5,
   "id": "5ef38396",
   "metadata": {},
   "outputs": [
    {
     "name": "stdout",
     "output_type": "stream",
     "text": [
      "Target variable encoded successfully.\n"
     ]
    }
   ],
   "source": [
    "# Clean and encode the target variable\n",
    "df['classification'] = df['classification'].str.strip().map({'ckd': 1, 'notckd': 0, 'ckd\\t': 1}).astype(int)\n",
    "print(\"Target variable encoded successfully.\")\n"
   ]
  },
  {
   "cell_type": "code",
   "execution_count": 6,
   "id": "5076fea1",
   "metadata": {},
   "outputs": [],
   "source": [
    "# Separate features and target\n",
    "X = df.drop('classification', axis=1)\n",
    "y = df['classification']\n",
    "\n",
    "# Split into training and testing sets\n",
    "X_train, X_test, y_train, y_test = train_test_split(X, y, test_size=0.2, random_state=42)\n",
    "\n",
    "# Standardize features for better model convergence\n",
    "scaler = StandardScaler()\n",
    "X_train = scaler.fit_transform(X_train)\n",
    "X_test = scaler.transform(X_test)\n"
   ]
  },
  {
   "cell_type": "code",
   "execution_count": 15,
   "id": "642e9225",
   "metadata": {},
   "outputs": [
    {
     "name": "stdout",
     "output_type": "stream",
     "text": [
      "----- Model Evaluation Start -----\n",
      "Logistic Regression Accuracy: 1.0000\n",
      "Decision Tree Accuracy: 1.0000\n",
      "Random Forest Accuracy: 1.0000\n",
      "SVM Accuracy: 1.0000\n",
      "Naive Bayes Accuracy: 0.9875\n",
      "----- Model Evaluation Complete -----\n",
      "\n"
     ]
    }
   ],
   "source": [
    "# Initialize models for comparison\n",
    "models = {\n",
    "    \"Logistic Regression\": LogisticRegression(max_iter=1000),\n",
    "    \"Decision Tree\": DecisionTreeClassifier(),\n",
    "    \"Random Forest\": RandomForestClassifier(random_state=42),\n",
    "    \"SVM\": SVC(),\n",
    "    \"Naive Bayes\": GaussianNB()\n",
    "}\n",
    "\n",
    "results = {}\n",
    "best_model = None\n",
    "best_acc = 0\n",
    "\n",
    "# Evaluate all models\n",
    "print(\"----- Model Evaluation Start -----\")\n",
    "for name, model in models.items():\n",
    "    model.fit(X_train, y_train)\n",
    "    y_pred = model.predict(X_test)\n",
    "    acc = accuracy_score(y_test, y_pred)\n",
    "    results[name] = acc\n",
    "    print(f\"{name} Accuracy: {acc:.4f}\")\n",
    "    \n",
    "    if name==\"Naive Bayes\":\n",
    "        best_acc = acc\n",
    "        best_model = model\n",
    "        best_model_name = name\n",
    "print(\"----- Model Evaluation Complete -----\\n\")\n"
   ]
  },
  {
   "cell_type": "code",
   "execution_count": 16,
   "id": "a1de158e",
   "metadata": {},
   "outputs": [
    {
     "name": "stdout",
     "output_type": "stream",
     "text": [
      "Model Accuracy Comparison:\n",
      "Logistic Regression: 1.0000\n",
      "Decision Tree: 1.0000\n",
      "Random Forest: 1.0000\n",
      "SVM: 1.0000\n",
      "Naive Bayes: 0.9875\n",
      "\n",
      "Best Model: Naive Bayes with accuracy 0.9875\n",
      "Best model saved to 'best_kidney_model.pkl'\n"
     ]
    }
   ],
   "source": [
    "# Display results\n",
    "print(\"Model Accuracy Comparison:\")\n",
    "for name, acc in results.items():\n",
    "    print(f\"{name}: {acc:.4f}\")\n",
    "\n",
    "# Save the best performing model\n",
    "print(f\"\\nBest Model: {best_model_name} with accuracy {best_acc:.4f}\")\n",
    "with open(\"best_kidney_model.pkl\", \"wb\") as f:\n",
    "    pickle.dump(best_model, f)\n",
    "print(\"Best model saved to 'best_kidney_model.pkl'\")\n"
   ]
  },
  {
   "cell_type": "code",
   "execution_count": 17,
   "id": "50033643",
   "metadata": {},
   "outputs": [
    {
     "name": "stdout",
     "output_type": "stream",
     "text": [
      "\n",
      "Classification Report for Best Model:\n",
      "              precision    recall  f1-score   support\n",
      "\n",
      "           0       0.97      1.00      0.98        28\n",
      "           1       1.00      0.98      0.99        52\n",
      "\n",
      "    accuracy                           0.99        80\n",
      "   macro avg       0.98      0.99      0.99        80\n",
      "weighted avg       0.99      0.99      0.99        80\n",
      "\n"
     ]
    },
    {
     "data": {
      "image/png": "[encoded data removed]",
      "text/plain": [
       "<Figure size 600x400 with 2 Axes>"
      ]
     },
     "metadata": {},
     "output_type": "display_data"
    }
   ],
   "source": [
    "# Generate predictions and report\n",
    "y_pred_best = best_model.predict(X_test)\n",
    "print(\"\\nClassification Report for Best Model:\")\n",
    "print(classification_report(y_test, y_pred_best))\n",
    "\n",
    "# Display confusion matrix\n",
    "plt.figure(figsize=(6, 4))\n",
    "sns.heatmap(confusion_matrix(y_test, y_pred_best), annot=True, fmt='d', cmap='Blues')\n",
    "plt.title(f'Confusion Matrix - {best_model_name}')\n",
    "plt.xlabel('Predicted')\n",
    "plt.ylabel('Actual')\n",
    "plt.show()\n"
   ]
  },
  {
   "cell_type": "code",
   "execution_count": null,
   "id": "8a0eb826-535c-4525-86cb-c2fcb2efad70",
   "metadata": {},
   "outputs": [],
   "source": []
  }
 ],
 "metadata": {
  "kernelspec": {
   "display_name": "myenv",
   "language": "python",
   "name": "python3"
  },
  "language_info": {
   "codemirror_mode": {
    "name": "ipython",
    "version": 3
   },
   "file_extension": ".py",
   "mimetype": "text/x-python",
   "name": "python",
   "nbconvert_exporter": "python",
   "pygments_lexer": "ipython3",
   "version": "3.10.0"
  }
 },
 "nbformat": 4,
 "nbformat_minor": 5
}
